{
  "nbformat": 4,
  "nbformat_minor": 0,
  "metadata": {
    "colab": {
      "provenance": [],
      "authorship_tag": "ABX9TyNjkwhZgbv/EnweWocnhMuh"
    },
    "kernelspec": {
      "name": "python3",
      "display_name": "Python 3"
    },
    "language_info": {
      "name": "python"
    }
  },
  "cells": [
    {
      "cell_type": "code",
      "source": [
        "import smtplib\n",
        "import email.message\n",
        "\n",
        "def enviar_email():\n",
        "\n",
        "  corpo_email = \"\"\"\n",
        "  <p>Prezados,</p>\n",
        "  <p>Segue meu primeiro e-mail automático.</p>\n",
        "  <p>Atenciosamente,</p>\n",
        "  <p>Gustavo</p>\n",
        "  \"\"\"\n",
        "\n",
        "  msg = email.message.Message()\n",
        "  msg['Subject'] = 'Email automático'\n",
        "  msg['From'] = 'Remetente'\n",
        "  msg['To'] = 'Destinatário'\n",
        "  password = 'senha'\n",
        "  msg.add_header('Content-Type', 'text/html')\n",
        "  msg.set_payload(corpo_email)\n",
        "\n",
        "  s = smtplib.SMTP('smtp.gmail.com: 587')\n",
        "  s.starttls()\n",
        "\n",
        "  s.login(msg['From'], password)\n",
        "  s.sendmail(msg['From'], [msg['To']], msg.as_string().encode('utf-8'))\n",
        "  print('Email enviado')"
      ],
      "metadata": {
        "id": "nPRz1gq8Tzhz"
      },
      "execution_count": null,
      "outputs": []
    },
    {
      "cell_type": "code",
      "source": [
        "enviar_email()"
      ],
      "metadata": {
        "id": "jNO1Jsy6YrJk"
      },
      "execution_count": null,
      "outputs": []
    }
  ]
}